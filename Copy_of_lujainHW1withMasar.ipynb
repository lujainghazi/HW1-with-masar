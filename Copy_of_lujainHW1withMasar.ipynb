{
  "nbformat": 4,
  "nbformat_minor": 0,
  "metadata": {
    "colab": {
      "provenance": [],
      "authorship_tag": "ABX9TyPQY/IRd81igYALQAZI63ov",
      "include_colab_link": true
    },
    "kernelspec": {
      "name": "python3",
      "display_name": "Python 3"
    },
    "language_info": {
      "name": "python"
    }
  },
  "cells": [
    {
      "cell_type": "markdown",
      "metadata": {
        "id": "view-in-github",
        "colab_type": "text"
      },
      "source": [
        "<a href=\"https://colab.research.google.com/github/lujainghazi/HW1-with-masar/blob/main/Copy_of_lujainHW1withMasar.ipynb\" target=\"_parent\"><img src=\"https://colab.research.google.com/assets/colab-badge.svg\" alt=\"Open In Colab\"/></a>"
      ]
    },
    {
      "cell_type": "code",
      "execution_count": null,
      "metadata": {
        "colab": {
          "base_uri": "https://localhost:8080/"
        },
        "id": "0roz4ZZgydYD",
        "outputId": "852b851f-6ec7-498d-f6cc-7145cd3137a7"
      },
      "outputs": [
        {
          "output_type": "stream",
          "name": "stdout",
          "text": [
            "hello my name is Lujain and I`m 20 years old and I seek to be the best version of myself <3\n"
          ]
        }
      ],
      "source": [
        "\n",
        "#تعريف لمتغير الاسم\n",
        "name = 'Lujain'\n",
        "\n",
        "#تعريف لمتغير العمر\n",
        "\n",
        "age = '20'\n",
        "\n",
        "#طباعة جملة اتحدث فيها عن نفسي\n",
        "\n",
        "print('hello my name is ' + name + \" and I`m \" + age + \" years old \" + \"and I seek to be the best version of myself <3\")\n"
      ]
    }
  ]
}